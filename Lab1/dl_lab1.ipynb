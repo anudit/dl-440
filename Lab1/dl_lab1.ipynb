{
  "nbformat": 4,
  "nbformat_minor": 0,
  "metadata": {
    "colab": {
      "name": "dl-lab1.ipynb",
      "provenance": []
    },
    "kernelspec": {
      "name": "python3",
      "display_name": "Python 3"
    }
  },
  "cells": [
    {
      "cell_type": "code",
      "metadata": {
        "id": "tMDlZLO1HdNJ",
        "colab_type": "code",
        "colab": {}
      },
      "source": [
        "import numpy as np"
      ],
      "execution_count": 2,
      "outputs": []
    },
    {
      "cell_type": "code",
      "metadata": {
        "id": "fJRxp2YzHP1w",
        "colab_type": "code",
        "colab": {
          "base_uri": "https://localhost:8080/",
          "height": 71
        },
        "outputId": "9aba6ad5-ed93-4d98-b4e6-ab675eff2cdb"
      },
      "source": [
        "mat_1 = [[x for x in range(10)] for x in range(10)]\n",
        "mat_2 = [[x+5 for x in range(10)] for x in range(10)]\n",
        "print(mat_1)\n",
        "print(mat_2)"
      ],
      "execution_count": 9,
      "outputs": [
        {
          "output_type": "stream",
          "text": [
            "[[0, 1, 2, 3, 4, 5, 6, 7, 8, 9], [0, 1, 2, 3, 4, 5, 6, 7, 8, 9], [0, 1, 2, 3, 4, 5, 6, 7, 8, 9], [0, 1, 2, 3, 4, 5, 6, 7, 8, 9], [0, 1, 2, 3, 4, 5, 6, 7, 8, 9], [0, 1, 2, 3, 4, 5, 6, 7, 8, 9], [0, 1, 2, 3, 4, 5, 6, 7, 8, 9], [0, 1, 2, 3, 4, 5, 6, 7, 8, 9], [0, 1, 2, 3, 4, 5, 6, 7, 8, 9], [0, 1, 2, 3, 4, 5, 6, 7, 8, 9]]\n",
            "[[5, 6, 7, 8, 9, 10, 11, 12, 13, 14], [5, 6, 7, 8, 9, 10, 11, 12, 13, 14], [5, 6, 7, 8, 9, 10, 11, 12, 13, 14], [5, 6, 7, 8, 9, 10, 11, 12, 13, 14], [5, 6, 7, 8, 9, 10, 11, 12, 13, 14], [5, 6, 7, 8, 9, 10, 11, 12, 13, 14], [5, 6, 7, 8, 9, 10, 11, 12, 13, 14], [5, 6, 7, 8, 9, 10, 11, 12, 13, 14], [5, 6, 7, 8, 9, 10, 11, 12, 13, 14], [5, 6, 7, 8, 9, 10, 11, 12, 13, 14]]\n"
          ],
          "name": "stdout"
        }
      ]
    },
    {
      "cell_type": "code",
      "metadata": {
        "id": "fG_RXnz9Hsds",
        "colab_type": "code",
        "colab": {
          "base_uri": "https://localhost:8080/",
          "height": 357
        },
        "outputId": "e190ac8d-b2ea-4e4e-ee8c-797bf15cf26d"
      },
      "source": [
        "mat_1 = np.array(mat_1) \n",
        "mat_2 = np.array(mat_2) \n",
        "print(mat_1)\n",
        "print(mat_2)"
      ],
      "execution_count": 10,
      "outputs": [
        {
          "output_type": "stream",
          "text": [
            "[[0 1 2 3 4 5 6 7 8 9]\n",
            " [0 1 2 3 4 5 6 7 8 9]\n",
            " [0 1 2 3 4 5 6 7 8 9]\n",
            " [0 1 2 3 4 5 6 7 8 9]\n",
            " [0 1 2 3 4 5 6 7 8 9]\n",
            " [0 1 2 3 4 5 6 7 8 9]\n",
            " [0 1 2 3 4 5 6 7 8 9]\n",
            " [0 1 2 3 4 5 6 7 8 9]\n",
            " [0 1 2 3 4 5 6 7 8 9]\n",
            " [0 1 2 3 4 5 6 7 8 9]]\n",
            "[[ 5  6  7  8  9 10 11 12 13 14]\n",
            " [ 5  6  7  8  9 10 11 12 13 14]\n",
            " [ 5  6  7  8  9 10 11 12 13 14]\n",
            " [ 5  6  7  8  9 10 11 12 13 14]\n",
            " [ 5  6  7  8  9 10 11 12 13 14]\n",
            " [ 5  6  7  8  9 10 11 12 13 14]\n",
            " [ 5  6  7  8  9 10 11 12 13 14]\n",
            " [ 5  6  7  8  9 10 11 12 13 14]\n",
            " [ 5  6  7  8  9 10 11 12 13 14]\n",
            " [ 5  6  7  8  9 10 11 12 13 14]]\n"
          ],
          "name": "stdout"
        }
      ]
    },
    {
      "cell_type": "code",
      "metadata": {
        "id": "gw8yszQZIGlb",
        "colab_type": "code",
        "colab": {
          "base_uri": "https://localhost:8080/",
          "height": 187
        },
        "outputId": "47d300cb-95b5-4b3d-a1b7-fe06573d6340"
      },
      "source": [
        "mat_1+mat_2"
      ],
      "execution_count": 11,
      "outputs": [
        {
          "output_type": "execute_result",
          "data": {
            "text/plain": [
              "array([[ 5,  7,  9, 11, 13, 15, 17, 19, 21, 23],\n",
              "       [ 5,  7,  9, 11, 13, 15, 17, 19, 21, 23],\n",
              "       [ 5,  7,  9, 11, 13, 15, 17, 19, 21, 23],\n",
              "       [ 5,  7,  9, 11, 13, 15, 17, 19, 21, 23],\n",
              "       [ 5,  7,  9, 11, 13, 15, 17, 19, 21, 23],\n",
              "       [ 5,  7,  9, 11, 13, 15, 17, 19, 21, 23],\n",
              "       [ 5,  7,  9, 11, 13, 15, 17, 19, 21, 23],\n",
              "       [ 5,  7,  9, 11, 13, 15, 17, 19, 21, 23],\n",
              "       [ 5,  7,  9, 11, 13, 15, 17, 19, 21, 23],\n",
              "       [ 5,  7,  9, 11, 13, 15, 17, 19, 21, 23]])"
            ]
          },
          "metadata": {
            "tags": []
          },
          "execution_count": 11
        }
      ]
    },
    {
      "cell_type": "code",
      "metadata": {
        "id": "apZBbEF2Ijcr",
        "colab_type": "code",
        "colab": {
          "base_uri": "https://localhost:8080/",
          "height": 187
        },
        "outputId": "670d351e-be9c-4e1d-d73c-e1cf3a9d9239"
      },
      "source": [
        "mat_1.T"
      ],
      "execution_count": 12,
      "outputs": [
        {
          "output_type": "execute_result",
          "data": {
            "text/plain": [
              "array([[0, 0, 0, 0, 0, 0, 0, 0, 0, 0],\n",
              "       [1, 1, 1, 1, 1, 1, 1, 1, 1, 1],\n",
              "       [2, 2, 2, 2, 2, 2, 2, 2, 2, 2],\n",
              "       [3, 3, 3, 3, 3, 3, 3, 3, 3, 3],\n",
              "       [4, 4, 4, 4, 4, 4, 4, 4, 4, 4],\n",
              "       [5, 5, 5, 5, 5, 5, 5, 5, 5, 5],\n",
              "       [6, 6, 6, 6, 6, 6, 6, 6, 6, 6],\n",
              "       [7, 7, 7, 7, 7, 7, 7, 7, 7, 7],\n",
              "       [8, 8, 8, 8, 8, 8, 8, 8, 8, 8],\n",
              "       [9, 9, 9, 9, 9, 9, 9, 9, 9, 9]])"
            ]
          },
          "metadata": {
            "tags": []
          },
          "execution_count": 12
        }
      ]
    },
    {
      "cell_type": "code",
      "metadata": {
        "id": "SfQAToonImhU",
        "colab_type": "code",
        "colab": {
          "base_uri": "https://localhost:8080/",
          "height": 187
        },
        "outputId": "48d5ef2b-0864-4a8e-dc18-67eb3fe008b8"
      },
      "source": [
        "mat_1.dot(mat_2)"
      ],
      "execution_count": 13,
      "outputs": [
        {
          "output_type": "execute_result",
          "data": {
            "text/plain": [
              "array([[225, 270, 315, 360, 405, 450, 495, 540, 585, 630],\n",
              "       [225, 270, 315, 360, 405, 450, 495, 540, 585, 630],\n",
              "       [225, 270, 315, 360, 405, 450, 495, 540, 585, 630],\n",
              "       [225, 270, 315, 360, 405, 450, 495, 540, 585, 630],\n",
              "       [225, 270, 315, 360, 405, 450, 495, 540, 585, 630],\n",
              "       [225, 270, 315, 360, 405, 450, 495, 540, 585, 630],\n",
              "       [225, 270, 315, 360, 405, 450, 495, 540, 585, 630],\n",
              "       [225, 270, 315, 360, 405, 450, 495, 540, 585, 630],\n",
              "       [225, 270, 315, 360, 405, 450, 495, 540, 585, 630],\n",
              "       [225, 270, 315, 360, 405, 450, 495, 540, 585, 630]])"
            ]
          },
          "metadata": {
            "tags": []
          },
          "execution_count": 13
        }
      ]
    },
    {
      "cell_type": "code",
      "metadata": {
        "id": "98dvd-udIrur",
        "colab_type": "code",
        "colab": {
          "base_uri": "https://localhost:8080/",
          "height": 187
        },
        "outputId": "01997741-fc48-4c09-ba6a-1161fca87a36"
      },
      "source": [
        "mat_1*mat_2"
      ],
      "execution_count": 14,
      "outputs": [
        {
          "output_type": "execute_result",
          "data": {
            "text/plain": [
              "array([[  0,   6,  14,  24,  36,  50,  66,  84, 104, 126],\n",
              "       [  0,   6,  14,  24,  36,  50,  66,  84, 104, 126],\n",
              "       [  0,   6,  14,  24,  36,  50,  66,  84, 104, 126],\n",
              "       [  0,   6,  14,  24,  36,  50,  66,  84, 104, 126],\n",
              "       [  0,   6,  14,  24,  36,  50,  66,  84, 104, 126],\n",
              "       [  0,   6,  14,  24,  36,  50,  66,  84, 104, 126],\n",
              "       [  0,   6,  14,  24,  36,  50,  66,  84, 104, 126],\n",
              "       [  0,   6,  14,  24,  36,  50,  66,  84, 104, 126],\n",
              "       [  0,   6,  14,  24,  36,  50,  66,  84, 104, 126],\n",
              "       [  0,   6,  14,  24,  36,  50,  66,  84, 104, 126]])"
            ]
          },
          "metadata": {
            "tags": []
          },
          "execution_count": 14
        }
      ]
    },
    {
      "cell_type": "code",
      "metadata": {
        "id": "j8yUf-WlI0ta",
        "colab_type": "code",
        "colab": {
          "base_uri": "https://localhost:8080/",
          "height": 102
        },
        "outputId": "c36bfc12-5c29-44c8-b07d-f0dbf3d85123"
      },
      "source": [
        "mat_1.reshape((5, 20))"
      ],
      "execution_count": 16,
      "outputs": [
        {
          "output_type": "execute_result",
          "data": {
            "text/plain": [
              "array([[0, 1, 2, 3, 4, 5, 6, 7, 8, 9, 0, 1, 2, 3, 4, 5, 6, 7, 8, 9],\n",
              "       [0, 1, 2, 3, 4, 5, 6, 7, 8, 9, 0, 1, 2, 3, 4, 5, 6, 7, 8, 9],\n",
              "       [0, 1, 2, 3, 4, 5, 6, 7, 8, 9, 0, 1, 2, 3, 4, 5, 6, 7, 8, 9],\n",
              "       [0, 1, 2, 3, 4, 5, 6, 7, 8, 9, 0, 1, 2, 3, 4, 5, 6, 7, 8, 9],\n",
              "       [0, 1, 2, 3, 4, 5, 6, 7, 8, 9, 0, 1, 2, 3, 4, 5, 6, 7, 8, 9]])"
            ]
          },
          "metadata": {
            "tags": []
          },
          "execution_count": 16
        }
      ]
    },
    {
      "cell_type": "code",
      "metadata": {
        "id": "SXEq_gt9IyZS",
        "colab_type": "code",
        "colab": {
          "base_uri": "https://localhost:8080/",
          "height": 170
        },
        "outputId": "3876095c-089d-4850-8b11-dd13ef621bba"
      },
      "source": [
        "from numpy import genfromtxt\n",
        "csvData = genfromtxt('MOCK_DATA.csv', delimiter=',', dtype=str)\n",
        "print(csvData)"
      ],
      "execution_count": 20,
      "outputs": [
        {
          "output_type": "stream",
          "text": [
            "[['id' 'first_name' 'last_name' 'email' 'gender' 'ip_address']\n",
            " ['1' 'Eustace' 'Gosker' 'egosker0@etsy.com' 'Male' '171.86.34.204']\n",
            " ['2' 'Meggi' 'Burns' 'mburns1@columbia.edu' 'Female' '62.204.187.249']\n",
            " ...\n",
            " ['998' 'Gustave' 'Vernham' 'gvernhamrp@earthlink.net' 'Male'\n",
            "  '5.198.223.149']\n",
            " ['999' 'Joice' 'Wearne' 'jwearnerq@wufoo.com' 'Female' '101.118.48.32']\n",
            " ['1000' 'Rooney' 'Castellaccio' 'rcastellacciorr@nyu.edu' 'Male'\n",
            "  '113.81.181.76']]\n"
          ],
          "name": "stdout"
        }
      ]
    }
  ]
}