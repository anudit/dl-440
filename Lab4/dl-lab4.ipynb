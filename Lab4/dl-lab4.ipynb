{
  "nbformat": 4,
  "nbformat_minor": 0,
  "metadata": {
    "colab": {
      "name": "dl-lab4.ipynb",
      "provenance": [],
      "collapsed_sections": []
    },
    "kernelspec": {
      "name": "python3",
      "display_name": "Python 3"
    }
  },
  "cells": [
    {
      "cell_type": "code",
      "metadata": {
        "id": "tttGq72bNAbC",
        "colab_type": "code",
        "colab": {
          "resources": {
            "http://localhost:8080/nbextensions/google.colab/files.js": {
              "data": "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",
              "ok": true,
              "headers": [
                [
                  "content-type",
                  "application/javascript"
                ]
              ],
              "status": 200,
              "status_text": ""
            }
          },
          "base_uri": "https://localhost:8080/",
          "height": 109
        },
        "outputId": "fa3e1944-d9f4-4d1a-c35a-82e081becc64"
      },
      "source": [
        "! pip install -q kaggle\n",
        "from google.colab import files\n",
        "files.upload()\n",
        "! mv kaggle.json ~/.kaggle/kaggle.json\n",
        "! mkdir ~/.kaggle\n",
        "! chmod 600 ~/.kaggle/kaggle.json"
      ],
      "execution_count": 1,
      "outputs": [
        {
          "output_type": "display_data",
          "data": {
            "text/html": [
              "\n",
              "     <input type=\"file\" id=\"files-510f0bce-08d3-4fa4-9565-b90c24918f85\" name=\"files[]\" multiple disabled\n",
              "        style=\"border:none\" />\n",
              "     <output id=\"result-510f0bce-08d3-4fa4-9565-b90c24918f85\">\n",
              "      Upload widget is only available when the cell has been executed in the\n",
              "      current browser session. Please rerun this cell to enable.\n",
              "      </output>\n",
              "      <script src=\"/nbextensions/google.colab/files.js\"></script> "
            ],
            "text/plain": [
              "<IPython.core.display.HTML object>"
            ]
          },
          "metadata": {
            "tags": []
          }
        },
        {
          "output_type": "stream",
          "text": [
            "Saving kaggle.json to kaggle.json\n",
            "cp: cannot create regular file '/root/.kaggle/kaggle.json': No such file or directory\n",
            "chmod: cannot access '/root/.kaggle/kaggle.json': No such file or directory\n"
          ],
          "name": "stdout"
        }
      ]
    },
    {
      "cell_type": "code",
      "metadata": {
        "id": "Jl0jUXAoR-Sk",
        "colab_type": "code",
        "colab": {
          "base_uri": "https://localhost:8080/",
          "height": 108
        },
        "outputId": "2ef70404-46de-4949-d5fb-18fc3cdd9c53"
      },
      "source": [
        "! kaggle datasets download 'akmittal/quotes-dataset'\n",
        "! unzip quotes-dataset.zip"
      ],
      "execution_count": 11,
      "outputs": [
        {
          "output_type": "stream",
          "text": [
            "Downloading quotes-dataset.zip to /content\n",
            "\r  0% 0.00/3.88M [00:00<?, ?B/s]\n",
            "\r100% 3.88M/3.88M [00:00<00:00, 129MB/s]\n",
            "Archive:  quotes-dataset.zip\n",
            "  inflating: quotes.json             \n"
          ],
          "name": "stdout"
        }
      ]
    },
    {
      "cell_type": "code",
      "metadata": {
        "id": "cj2RqX_xR8s_",
        "colab_type": "code",
        "colab": {
          "base_uri": "https://localhost:8080/",
          "height": 74
        },
        "outputId": "2a5148c4-fa63-43bb-965c-820c73d3ebf4"
      },
      "source": [
        "import pandas as pd\n",
        "import numpy as np\n",
        "import matplotlib.pyplot as plt\n",
        "import seaborn as sns\n",
        "\n",
        "import keras\n",
        "from keras.preprocessing.text import Tokenizer\n",
        "from keras.preprocessing.sequence import pad_sequences\n",
        "from keras import layers\n",
        "from keras.models import Sequential\n",
        "import keras.utils as ku\n",
        "from keras.callbacks import EarlyStopping"
      ],
      "execution_count": 3,
      "outputs": [
        {
          "output_type": "stream",
          "text": [
            "/usr/local/lib/python3.6/dist-packages/statsmodels/tools/_testing.py:19: FutureWarning: pandas.util.testing is deprecated. Use the functions in the public API at pandas.testing instead.\n",
            "  import pandas.util.testing as tm\n"
          ],
          "name": "stderr"
        }
      ]
    },
    {
      "cell_type": "code",
      "metadata": {
        "id": "FvGDfDXHR9I1",
        "colab_type": "code",
        "colab": {
          "base_uri": "https://localhost:8080/",
          "height": 216
        },
        "outputId": "54d9b9a3-385b-4d83-cfa3-4c8e4c4e79f8"
      },
      "source": [
        "data = pd.read_json('quotes.json')\n",
        "print(data.shape)\n",
        "data.head()"
      ],
      "execution_count": 13,
      "outputs": [
        {
          "output_type": "stream",
          "text": [
            "(48391, 5)\n"
          ],
          "name": "stdout"
        },
        {
          "output_type": "execute_result",
          "data": {
            "text/html": [
              "<div>\n",
              "<style scoped>\n",
              "    .dataframe tbody tr th:only-of-type {\n",
              "        vertical-align: middle;\n",
              "    }\n",
              "\n",
              "    .dataframe tbody tr th {\n",
              "        vertical-align: top;\n",
              "    }\n",
              "\n",
              "    .dataframe thead th {\n",
              "        text-align: right;\n",
              "    }\n",
              "</style>\n",
              "<table border=\"1\" class=\"dataframe\">\n",
              "  <thead>\n",
              "    <tr style=\"text-align: right;\">\n",
              "      <th></th>\n",
              "      <th>Quote</th>\n",
              "      <th>Author</th>\n",
              "      <th>Tags</th>\n",
              "      <th>Popularity</th>\n",
              "      <th>Category</th>\n",
              "    </tr>\n",
              "  </thead>\n",
              "  <tbody>\n",
              "    <tr>\n",
              "      <th>0</th>\n",
              "      <td>Don't cry because it's over, smile because it ...</td>\n",
              "      <td>Dr. Seuss</td>\n",
              "      <td>[attributed-no-source, cry, crying, experience...</td>\n",
              "      <td>0.155666</td>\n",
              "      <td>life</td>\n",
              "    </tr>\n",
              "    <tr>\n",
              "      <th>1</th>\n",
              "      <td>Don't cry because it's over, smile because it ...</td>\n",
              "      <td>Dr. Seuss</td>\n",
              "      <td>[attributed-no-source, cry, crying, experience...</td>\n",
              "      <td>0.155666</td>\n",
              "      <td>happiness</td>\n",
              "    </tr>\n",
              "    <tr>\n",
              "      <th>2</th>\n",
              "      <td>I'm selfish, impatient and a little insecure. ...</td>\n",
              "      <td>Marilyn Monroe</td>\n",
              "      <td>[attributed-no-source, best, life, love, mista...</td>\n",
              "      <td>0.129122</td>\n",
              "      <td>love</td>\n",
              "    </tr>\n",
              "    <tr>\n",
              "      <th>3</th>\n",
              "      <td>I'm selfish, impatient and a little insecure. ...</td>\n",
              "      <td>Marilyn Monroe</td>\n",
              "      <td>[attributed-no-source, best, life, love, mista...</td>\n",
              "      <td>0.129122</td>\n",
              "      <td>life</td>\n",
              "    </tr>\n",
              "    <tr>\n",
              "      <th>4</th>\n",
              "      <td>I'm selfish, impatient and a little insecure. ...</td>\n",
              "      <td>Marilyn Monroe</td>\n",
              "      <td>[attributed-no-source, best, life, love, mista...</td>\n",
              "      <td>0.129122</td>\n",
              "      <td>truth</td>\n",
              "    </tr>\n",
              "  </tbody>\n",
              "</table>\n",
              "</div>"
            ],
            "text/plain": [
              "                                               Quote  ...   Category\n",
              "0  Don't cry because it's over, smile because it ...  ...       life\n",
              "1  Don't cry because it's over, smile because it ...  ...  happiness\n",
              "2  I'm selfish, impatient and a little insecure. ...  ...       love\n",
              "3  I'm selfish, impatient and a little insecure. ...  ...       life\n",
              "4  I'm selfish, impatient and a little insecure. ...  ...      truth\n",
              "\n",
              "[5 rows x 5 columns]"
            ]
          },
          "metadata": {
            "tags": []
          },
          "execution_count": 13
        }
      ]
    },
    {
      "cell_type": "code",
      "metadata": {
        "id": "evrDmMHFTNXA",
        "colab_type": "code",
        "colab": {
          "base_uri": "https://localhost:8080/",
          "height": 90
        },
        "outputId": "cceb7503-3114-418b-8aa3-ced8a4bc0562"
      },
      "source": [
        "# Dropping duplicates and creating a list containing all the quotes\n",
        "quotes = data['Quote'].drop_duplicates()\n",
        "print(f\"Total Unique Quotes: {quotes.shape}\")\n",
        "\n",
        "# Considering only top 3000 quotes\n",
        "quotes_filt = quotes.sample(3000)\n",
        "print(f\"Filtered Quotes: {quotes_filt.shape}\")\n",
        "all_quotes = list(quotes_filt)\n",
        "all_quotes[:2]"
      ],
      "execution_count": 14,
      "outputs": [
        {
          "output_type": "stream",
          "text": [
            "Total Unique Quotes: (36937,)\n",
            "Filtered Quotes: (3000,)\n"
          ],
          "name": "stdout"
        },
        {
          "output_type": "execute_result",
          "data": {
            "text/plain": [
              "['There is only one way to happiness and that is to cease worrying about things which are beyond the power or our will.',\n",
              " 'I arose like a rose, and this is how I knew I was in love. In the garden of life, I’m better off in your neighbor’s yard.']"
            ]
          },
          "metadata": {
            "tags": []
          },
          "execution_count": 14
        }
      ]
    },
    {
      "cell_type": "code",
      "metadata": {
        "id": "Yy8azIUvTQE6",
        "colab_type": "code",
        "colab": {
          "base_uri": "https://localhost:8080/",
          "height": 126
        },
        "outputId": "027d2ad3-098f-44a9-e9a1-c4c2e9a25ce3"
      },
      "source": [
        "# Tokeinization\n",
        "tokenizer = Tokenizer()\n",
        "\n",
        "# Function to create the sequences\n",
        "def generate_sequences(corpus):\n",
        "    tokenizer.fit_on_texts(corpus)\n",
        "    total_words = len(tokenizer.word_index) + 1\n",
        "    print(f\"Total unique words in the text corpus: {total_words}\")\n",
        "    input_sequences = []\n",
        "    for line in corpus:\n",
        "        seq = tokenizer.texts_to_sequences([line])[0]\n",
        "        for i in range(1, len(seq)):\n",
        "            ngram_seq = seq[:i+1]\n",
        "            input_sequences.append(ngram_seq)\n",
        "            \n",
        "    return input_sequences, total_words\n",
        "\n",
        "# Generating sequences\n",
        "input_sequences, total_words = generate_sequences(all_quotes)\n",
        "input_sequences[:5]"
      ],
      "execution_count": 15,
      "outputs": [
        {
          "output_type": "stream",
          "text": [
            "Total unique words in the text corpus: 9732\n"
          ],
          "name": "stdout"
        },
        {
          "output_type": "execute_result",
          "data": {
            "text/plain": [
              "[[40, 6],\n",
              " [40, 6, 54],\n",
              " [40, 6, 54, 33],\n",
              " [40, 6, 54, 33, 85],\n",
              " [40, 6, 54, 33, 85, 2]]"
            ]
          },
          "metadata": {
            "tags": []
          },
          "execution_count": 15
        }
      ]
    },
    {
      "cell_type": "code",
      "metadata": {
        "id": "Ln2w9ZphTShQ",
        "colab_type": "code",
        "colab": {
          "base_uri": "https://localhost:8080/",
          "height": 145
        },
        "outputId": "fefc9eb2-0ae4-4481-f92c-69181f4b2ba2"
      },
      "source": [
        "# Generating predictors and labels from the padded sequences\n",
        "def generate_input_sequence(input_sequences):\n",
        "    maxlen = max([len(x) for x in input_sequences])\n",
        "    input_sequences = pad_sequences(input_sequences, maxlen=maxlen)\n",
        "    predictors, label = input_sequences[:, :-1], input_sequences[:, -1]\n",
        "    label = ku.to_categorical(label, num_classes=total_words)\n",
        "    return predictors, label, maxlen\n",
        "\n",
        "predictors, label, maxlen = generate_input_sequence(input_sequences)\n",
        "predictors[:1], label[:1]"
      ],
      "execution_count": 16,
      "outputs": [
        {
          "output_type": "execute_result",
          "data": {
            "text/plain": [
              "(array([[ 0,  0,  0,  0,  0,  0,  0,  0,  0,  0,  0,  0,  0,  0,  0,  0,\n",
              "          0,  0,  0,  0,  0,  0,  0,  0,  0,  0,  0,  0,  0,  0,  0,  0,\n",
              "          0,  0,  0,  0,  0,  0,  0,  0,  0,  0,  0,  0,  0,  0,  0,  0,\n",
              "          0,  0,  0,  0,  0,  0,  0,  0,  0,  0,  0,  0,  0,  0,  0,  0,\n",
              "          0,  0,  0,  0,  0,  0,  0,  0,  0,  0,  0,  0,  0,  0,  0,  0,\n",
              "          0, 40]], dtype=int32),\n",
              " array([[0., 0., 0., ..., 0., 0., 0.]], dtype=float32))"
            ]
          },
          "metadata": {
            "tags": []
          },
          "execution_count": 16
        }
      ]
    },
    {
      "cell_type": "code",
      "metadata": {
        "id": "Jo_9dIqBTUPL",
        "colab_type": "code",
        "colab": {
          "base_uri": "https://localhost:8080/",
          "height": 272
        },
        "outputId": "65c29d2e-514f-4926-a37b-ee61de31e879"
      },
      "source": [
        "# Building the model\n",
        "embedding_dim = 64\n",
        "\n",
        "def create_model(maxlen, embedding_dim, total_words):\n",
        "    model = Sequential()\n",
        "    model.add(layers.Embedding(total_words, embedding_dim, input_length = maxlen))\n",
        "    model.add(layers.LSTM(128, dropout=0.2))\n",
        "    model.add(layers.Dense(total_words, activation='softmax'))\n",
        "    \n",
        "    # compiling the model\n",
        "    model.compile(loss='categorical_crossentropy', optimizer='adam')\n",
        "    return model\n",
        "\n",
        "model = create_model(maxlen, embedding_dim, total_words)\n",
        "model.summary()"
      ],
      "execution_count": 17,
      "outputs": [
        {
          "output_type": "stream",
          "text": [
            "Model: \"sequential\"\n",
            "_________________________________________________________________\n",
            "Layer (type)                 Output Shape              Param #   \n",
            "=================================================================\n",
            "embedding (Embedding)        (None, 83, 64)            622848    \n",
            "_________________________________________________________________\n",
            "lstm (LSTM)                  (None, 128)               98816     \n",
            "_________________________________________________________________\n",
            "dense (Dense)                (None, 9732)              1255428   \n",
            "=================================================================\n",
            "Total params: 1,977,092\n",
            "Trainable params: 1,977,092\n",
            "Non-trainable params: 0\n",
            "_________________________________________________________________\n"
          ],
          "name": "stdout"
        }
      ]
    },
    {
      "cell_type": "code",
      "metadata": {
        "id": "WPH2nOiFTXa4",
        "colab_type": "code",
        "colab": {
          "base_uri": "https://localhost:8080/",
          "height": 35
        },
        "outputId": "75236839-f12d-4bb2-e6b3-4578bc94d1bf"
      },
      "source": [
        "predictors.shape , label.shape, maxlen"
      ],
      "execution_count": 18,
      "outputs": [
        {
          "output_type": "execute_result",
          "data": {
            "text/plain": [
              "((74127, 82), (74127, 9732), 83)"
            ]
          },
          "metadata": {
            "tags": []
          },
          "execution_count": 18
        }
      ]
    },
    {
      "cell_type": "code",
      "metadata": {
        "id": "hyC6fSgxTcsc",
        "colab_type": "code",
        "colab": {
          "base_uri": "https://localhost:8080/",
          "height": 1000
        },
        "outputId": "9cbe9a35-8f26-49e5-9d48-eb8d48aaf41a"
      },
      "source": [
        "history = model.fit(predictors, label, epochs=100, batch_size=64)"
      ],
      "execution_count": 20,
      "outputs": [
        {
          "output_type": "stream",
          "text": [
            "Epoch 1/100\n",
            "1159/1159 [==============================] - 207s 179ms/step - loss: 6.8809\n",
            "Epoch 2/100\n",
            "1159/1159 [==============================] - 207s 178ms/step - loss: 6.4087\n",
            "Epoch 3/100\n",
            "1159/1159 [==============================] - 206s 178ms/step - loss: 6.0945\n",
            "Epoch 4/100\n",
            "1159/1159 [==============================] - 206s 178ms/step - loss: 5.8270\n",
            "Epoch 5/100\n",
            "1159/1159 [==============================] - 206s 178ms/step - loss: 5.5702\n",
            "Epoch 6/100\n",
            "1159/1159 [==============================] - 206s 178ms/step - loss: 5.3242\n",
            "Epoch 7/100\n",
            "1159/1159 [==============================] - 206s 178ms/step - loss: 5.0930\n",
            "Epoch 8/100\n",
            "1159/1159 [==============================] - 206s 178ms/step - loss: 4.8809\n",
            "Epoch 9/100\n",
            "1159/1159 [==============================] - 208s 179ms/step - loss: 4.6793\n",
            "Epoch 10/100\n",
            "1159/1159 [==============================] - 207s 179ms/step - loss: 4.4881\n",
            "Epoch 11/100\n",
            "1159/1159 [==============================] - 208s 179ms/step - loss: 4.3062\n",
            "Epoch 12/100\n",
            "1159/1159 [==============================] - 207s 179ms/step - loss: 4.1396\n",
            "Epoch 13/100\n",
            "1159/1159 [==============================] - 207s 178ms/step - loss: 3.9806\n",
            "Epoch 14/100\n",
            "1159/1159 [==============================] - 207s 179ms/step - loss: 3.8343\n",
            "Epoch 15/100\n",
            "1159/1159 [==============================] - 207s 179ms/step - loss: 3.7007\n",
            "Epoch 16/100\n",
            "1159/1159 [==============================] - 206s 178ms/step - loss: 3.5765\n",
            "Epoch 17/100\n",
            "1159/1159 [==============================] - 208s 179ms/step - loss: 3.4634\n",
            "Epoch 18/100\n",
            "1159/1159 [==============================] - 207s 179ms/step - loss: 3.3619\n",
            "Epoch 19/100\n",
            "1159/1159 [==============================] - 207s 178ms/step - loss: 3.2644\n",
            "Epoch 20/100\n",
            "1159/1159 [==============================] - 209s 181ms/step - loss: 3.1779\n",
            "Epoch 21/100\n",
            "1159/1159 [==============================] - 209s 180ms/step - loss: 3.0923\n",
            "Epoch 22/100\n",
            "1159/1159 [==============================] - 209s 180ms/step - loss: 3.0224\n",
            "Epoch 23/100\n",
            "1159/1159 [==============================] - 207s 179ms/step - loss: 2.9499\n",
            "Epoch 24/100\n",
            "1159/1159 [==============================] - 207s 179ms/step - loss: 2.8831\n",
            "Epoch 25/100\n",
            "1159/1159 [==============================] - 208s 180ms/step - loss: 2.8222\n",
            "Epoch 26/100\n",
            "1159/1159 [==============================] - 208s 179ms/step - loss: 2.7620\n",
            "Epoch 27/100\n",
            "1159/1159 [==============================] - 207s 179ms/step - loss: 2.7049\n",
            "Epoch 28/100\n",
            "1159/1159 [==============================] - 210s 181ms/step - loss: 2.6567\n",
            "Epoch 29/100\n",
            "1159/1159 [==============================] - 208s 179ms/step - loss: 2.6052\n",
            "Epoch 30/100\n",
            "1159/1159 [==============================] - 207s 178ms/step - loss: 2.5594\n",
            "Epoch 31/100\n",
            "1159/1159 [==============================] - 210s 181ms/step - loss: 2.5214\n",
            "Epoch 32/100\n",
            "1159/1159 [==============================] - 208s 180ms/step - loss: 2.4802\n",
            "Epoch 33/100\n",
            "1159/1159 [==============================] - 207s 179ms/step - loss: 2.4375\n",
            "Epoch 34/100\n",
            "1159/1159 [==============================] - 209s 180ms/step - loss: 2.4004\n",
            "Epoch 35/100\n",
            "1159/1159 [==============================] - 207s 178ms/step - loss: 2.3664\n",
            "Epoch 36/100\n",
            "1159/1159 [==============================] - 207s 179ms/step - loss: 2.3288\n",
            "Epoch 37/100\n",
            "1159/1159 [==============================] - 207s 179ms/step - loss: 2.2988\n",
            "Epoch 38/100\n",
            "1159/1159 [==============================] - 207s 178ms/step - loss: 2.2695\n",
            "Epoch 39/100\n",
            "1159/1159 [==============================] - 207s 179ms/step - loss: 2.2383\n",
            "Epoch 40/100\n",
            "1159/1159 [==============================] - 207s 178ms/step - loss: 2.2097\n",
            "Epoch 41/100\n",
            "1159/1159 [==============================] - 208s 179ms/step - loss: 2.1874\n",
            "Epoch 42/100\n",
            "1159/1159 [==============================] - 208s 179ms/step - loss: 2.1537\n",
            "Epoch 43/100\n",
            "1159/1159 [==============================] - 206s 178ms/step - loss: 2.1302\n",
            "Epoch 44/100\n",
            "1159/1159 [==============================] - 207s 178ms/step - loss: 2.1039\n",
            "Epoch 45/100\n",
            "1159/1159 [==============================] - 206s 178ms/step - loss: 2.0802\n",
            "Epoch 46/100\n",
            "1159/1159 [==============================] - 206s 178ms/step - loss: 2.0591\n",
            "Epoch 47/100\n",
            "1159/1159 [==============================] - 207s 179ms/step - loss: 2.0379\n",
            "Epoch 48/100\n",
            "1159/1159 [==============================] - 207s 179ms/step - loss: 2.0166\n",
            "Epoch 49/100\n",
            "1159/1159 [==============================] - 207s 178ms/step - loss: 1.9977\n",
            "Epoch 50/100\n",
            "1159/1159 [==============================] - 207s 178ms/step - loss: 1.9844\n",
            "Epoch 51/100\n",
            "1159/1159 [==============================] - 207s 178ms/step - loss: 1.9627\n",
            "Epoch 52/100\n",
            "1159/1159 [==============================] - 209s 181ms/step - loss: 1.9441\n",
            "Epoch 53/100\n",
            "1159/1159 [==============================] - 207s 178ms/step - loss: 1.9253\n",
            "Epoch 54/100\n",
            " 594/1159 [==============>...............] - ETA: 1:40 - loss: 1.8605Buffered data was truncated after reaching the output size limit."
          ],
          "name": "stdout"
        }
      ]
    },
    {
      "cell_type": "code",
      "metadata": {
        "id": "HHQs0u5ALiKU",
        "colab_type": "code",
        "colab": {
          "base_uri": "https://localhost:8080/",
          "height": 55
        },
        "outputId": "e0427608-8ee0-4bc9-fd1c-c2f71015c5e2"
      },
      "source": [
        "print(history.history)"
      ],
      "execution_count": 21,
      "outputs": [
        {
          "output_type": "stream",
          "text": [
            "{'loss': [6.880855083465576, 6.40865421295166, 6.094461441040039, 5.8270263671875, 5.5702056884765625, 5.324160099029541, 5.09303617477417, 4.880861759185791, 4.67929744720459, 4.488125324249268, 4.306235313415527, 4.13964319229126, 3.9805965423583984, 3.8343093395233154, 3.700686454772949, 3.5764689445495605, 3.4634363651275635, 3.3618950843811035, 3.264404535293579, 3.177889585494995, 3.0923104286193848, 3.022383451461792, 2.9499123096466064, 2.8830583095550537, 2.822160005569458, 2.7620487213134766, 2.7048659324645996, 2.656682252883911, 2.6051626205444336, 2.5594053268432617, 2.5213654041290283, 2.4802212715148926, 2.4374756813049316, 2.4003844261169434, 2.3663649559020996, 2.328795909881592, 2.298776388168335, 2.2695322036743164, 2.238332509994507, 2.2096505165100098, 2.1873557567596436, 2.1537389755249023, 2.1301867961883545, 2.1039328575134277, 2.080221176147461, 2.059087038040161, 2.0379135608673096, 2.0165534019470215, 1.997658610343933, 1.984391450881958, 1.962712049484253, 1.9441478252410889, 1.9252965450286865, 1.9076082706451416, 1.890607476234436, 1.878455638885498, 1.8652361631393433, 1.8490630388259888, 1.836296796798706, 1.8200700283050537, 1.8070342540740967, 1.7923418283462524, 1.7830779552459717, 1.7710822820663452, 1.759629726409912, 1.748358130455017, 1.734876036643982, 1.7231709957122803, 1.7161097526550293, 1.7025089263916016, 1.6925793886184692, 1.6816940307617188, 1.6735591888427734, 1.6656430959701538, 1.6558693647384644, 1.6491247415542603, 1.6379748582839966, 1.631239414215088, 1.6191731691360474, 1.6133309602737427, 1.6074256896972656, 1.5967847108840942, 1.5903266668319702, 1.5767130851745605, 1.5674548149108887, 1.5656574964523315, 1.5620230436325073, 1.5478785037994385, 1.5458009243011475, 1.541443943977356, 1.535498023033142, 1.5313421487808228, 1.5213735103607178, 1.5165318250656128, 1.500406265258789, 1.4958255290985107, 1.4921947717666626, 1.4867902994155884, 1.4803727865219116, 1.4787025451660156]}\n"
          ],
          "name": "stdout"
        }
      ]
    },
    {
      "cell_type": "code",
      "metadata": {
        "id": "g0vURV4sTkrb",
        "colab_type": "code",
        "colab": {}
      },
      "source": [
        "def generate_quote(seed_text, num_words, model, maxlen):\n",
        "    \n",
        "    for _ in range(num_words):\n",
        "        tokens = tokenizer.texts_to_sequences([seed_text])[0]\n",
        "        tokens = pad_sequences([tokens], maxlen=maxlen, padding='pre')\n",
        "        \n",
        "        predicted = model.predict_classes(tokens)\n",
        "        \n",
        "        output_word = ''\n",
        "        \n",
        "        for word, index in tokenizer.word_index.items():\n",
        "            if index == predicted:\n",
        "                output_word = word\n",
        "                break\n",
        "        seed_text = seed_text + \" \" + output_word\n",
        "    \n",
        "    return seed_text"
      ],
      "execution_count": 30,
      "outputs": []
    },
    {
      "cell_type": "code",
      "metadata": {
        "id": "R-1TatbETnBM",
        "colab_type": "code",
        "colab": {
          "base_uri": "https://localhost:8080/",
          "height": 35
        },
        "outputId": "9d822bb7-e98a-4dcb-b995-1683955cf987"
      },
      "source": [
        "print(generate_quote(\"Don't cry\", num_words = 2, model= model, maxlen=maxlen))"
      ],
      "execution_count": 41,
      "outputs": [
        {
          "output_type": "stream",
          "text": [
            "Don't cry i'm sorry\n"
          ],
          "name": "stdout"
        }
      ]
    },
    {
      "cell_type": "code",
      "metadata": {
        "id": "v9sTo5-EKvHa",
        "colab_type": "code",
        "colab": {}
      },
      "source": [
        "lossv = [6.880855083465576, 6.40865421295166, 6.094461441040039, 5.8270263671875, 5.5702056884765625, 5.324160099029541, 5.09303617477417, 4.880861759185791, 4.67929744720459, 4.488125324249268, 4.306235313415527, 4.13964319229126, 3.9805965423583984, 3.8343093395233154, 3.700686454772949, 3.5764689445495605, 3.4634363651275635, 3.3618950843811035, 3.264404535293579, 3.177889585494995, 3.0923104286193848, 3.022383451461792, 2.9499123096466064, 2.8830583095550537, 2.822160005569458, 2.7620487213134766, 2.7048659324645996, 2.656682252883911, 2.6051626205444336, 2.5594053268432617, 2.5213654041290283, 2.4802212715148926, 2.4374756813049316, 2.4003844261169434, 2.3663649559020996, 2.328795909881592, 2.298776388168335, 2.2695322036743164, 2.238332509994507, 2.2096505165100098, 2.1873557567596436, 2.1537389755249023, 2.1301867961883545, 2.1039328575134277, 2.080221176147461, 2.059087038040161, 2.0379135608673096, 2.0165534019470215, 1.997658610343933, 1.984391450881958, 1.962712049484253, 1.9441478252410889, 1.9252965450286865, 1.9076082706451416, 1.890607476234436, 1.878455638885498, 1.8652361631393433, 1.8490630388259888, 1.836296796798706, 1.8200700283050537, 1.8070342540740967, 1.7923418283462524, 1.7830779552459717, 1.7710822820663452, 1.759629726409912, 1.748358130455017, 1.734876036643982, 1.7231709957122803, 1.7161097526550293, 1.7025089263916016, 1.6925793886184692, 1.6816940307617188, 1.6735591888427734, 1.6656430959701538, 1.6558693647384644, 1.6491247415542603, 1.6379748582839966, 1.631239414215088, 1.6191731691360474, 1.6133309602737427, 1.6074256896972656, 1.5967847108840942, 1.5903266668319702, 1.5767130851745605, 1.5674548149108887, 1.5656574964523315, 1.5620230436325073, 1.5478785037994385, 1.5458009243011475, 1.541443943977356, 1.535498023033142, 1.5313421487808228, 1.5213735103607178, 1.5165318250656128, 1.500406265258789, 1.4958255290985107, 1.4921947717666626, 1.4867902994155884, 1.4803727865219116, 1.4787025451660156]"
      ],
      "execution_count": 2,
      "outputs": []
    },
    {
      "cell_type": "code",
      "metadata": {
        "id": "Bu9e9ewCK2lC",
        "colab_type": "code",
        "colab": {
          "base_uri": "https://localhost:8080/",
          "height": 283
        },
        "outputId": "ced18f46-36f9-4f55-baab-b0df6f37006d"
      },
      "source": [
        "plt.plot(lossv)"
      ],
      "execution_count": 4,
      "outputs": [
        {
          "output_type": "execute_result",
          "data": {
            "text/plain": [
              "[<matplotlib.lines.Line2D at 0x7fdb7852dac8>]"
            ]
          },
          "metadata": {
            "tags": []
          },
          "execution_count": 4
        },
        {
          "output_type": "display_data",
          "data": {
            "image/png": "[encoded data removed]",
            "text/plain": [
              "<Figure size 432x288 with 1 Axes>"
            ]
          },
          "metadata": {
            "tags": [],
            "needs_background": "light"
          }
        }
      ]
    }
  ]
}