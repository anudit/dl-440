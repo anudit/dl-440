{
  "nbformat": 4,
  "nbformat_minor": 0,
  "metadata": {
    "colab": {
      "name": "dl-lab5.ipynb",
      "provenance": []
    },
    "kernelspec": {
      "name": "python3",
      "display_name": "Python 3"
    },
    "accelerator": "GPU"
  },
  "cells": [
    {
      "cell_type": "code",
      "metadata": {
        "id": "SHcJUf1ahJ3D",
        "colab_type": "code",
        "colab": {}
      },
      "source": [
        "from __future__ import print_function\n",
        "import keras\n",
        "from keras.datasets import mnist\n",
        "from keras.models import Sequential\n",
        "from keras.layers import Dense, Dropout, Flatten\n",
        "from keras.layers import Conv2D, MaxPooling2D\n",
        "from keras import backend as K\n",
        "\n",
        "import pathlib\n",
        "import numpy as np\n",
        "import os\n",
        "import PIL\n",
        "import PIL.Image\n",
        "import tensorflow as tf\n",
        "import tensorflow_datasets as tfdsimport\n",
        "from matplotlib import pyplot as plt"
      ],
      "execution_count": 1,
      "outputs": []
    },
    {
      "cell_type": "code",
      "metadata": {
        "id": "TRNzt9VeFEkP",
        "colab_type": "code",
        "colab": {
          "base_uri": "https://localhost:8080/",
          "height": 204
        },
        "outputId": "635faa3d-5f41-4954-9ddb-ced4abd207cb"
      },
      "source": [
        "!wget https://archive.ics.uci.edu/ml/machine-learning-databases/00389/DevanagariHandwrittenCharacterDataset.zip\n",
        "!unzip -q DevanagariHandwrittenCharacterDataset\n",
        "\n",
        "!mkdir './dataset'\n",
        "!mkdir './dataset/train'\n",
        "!mkdir './dataset/test'\n",
        "\n",
        "!mv './DevanagariHandwrittenCharacterDataset/Train/digit_0' './dataset/train/'\n",
        "!mv './DevanagariHandwrittenCharacterDataset/Train/digit_1' './dataset/train/'\n",
        "!mv './DevanagariHandwrittenCharacterDataset/Train/digit_2' './dataset/train/'\n",
        "!mv './DevanagariHandwrittenCharacterDataset/Train/digit_3' './dataset/train/'\n",
        "!mv './DevanagariHandwrittenCharacterDataset/Train/digit_4' './dataset/train/'\n",
        "!mv './DevanagariHandwrittenCharacterDataset/Train/digit_5' './dataset/train/'\n",
        "!mv './DevanagariHandwrittenCharacterDataset/Train/digit_6' './dataset/train/'\n",
        "!mv './DevanagariHandwrittenCharacterDataset/Train/digit_7' './dataset/train/'\n",
        "!mv './DevanagariHandwrittenCharacterDataset/Train/digit_8' './dataset/train/'\n",
        "!mv './DevanagariHandwrittenCharacterDataset/Train/digit_9' './dataset/train/'\n",
        "\n",
        "!mv './DevanagariHandwrittenCharacterDataset/Test/digit_0' './dataset/test/'\n",
        "!mv './DevanagariHandwrittenCharacterDataset/Test/digit_1' './dataset/test/'\n",
        "!mv './DevanagariHandwrittenCharacterDataset/Test/digit_2' './dataset/test/'\n",
        "!mv './DevanagariHandwrittenCharacterDataset/Test/digit_3' './dataset/test/'\n",
        "!mv './DevanagariHandwrittenCharacterDataset/Test/digit_4' './dataset/test/'\n",
        "!mv './DevanagariHandwrittenCharacterDataset/Test/digit_5' './dataset/test/'\n",
        "!mv './DevanagariHandwrittenCharacterDataset/Test/digit_6' './dataset/test/'\n",
        "!mv './DevanagariHandwrittenCharacterDataset/Test/digit_7' './dataset/test/'\n",
        "!mv './DevanagariHandwrittenCharacterDataset/Test/digit_8' './dataset/test/'\n",
        "!mv './DevanagariHandwrittenCharacterDataset/Test/digit_9' './dataset/test/'"
      ],
      "execution_count": 2,
      "outputs": [
        {
          "output_type": "stream",
          "text": [
            "--2020-09-16 06:46:17--  https://archive.ics.uci.edu/ml/machine-learning-databases/00389/DevanagariHandwrittenCharacterDataset.zip\n",
            "Resolving archive.ics.uci.edu (archive.ics.uci.edu)... 128.195.10.252\n",
            "Connecting to archive.ics.uci.edu (archive.ics.uci.edu)|128.195.10.252|:443... connected.\n",
            "HTTP request sent, awaiting response... 200 OK\n",
            "Length: 80417803 (77M) [application/x-httpd-php]\n",
            "Saving to: ‘DevanagariHandwrittenCharacterDataset.zip’\n",
            "\n",
            "DevanagariHandwritt 100%[===================>]  76.69M  20.1MB/s    in 4.3s    \n",
            "\n",
            "2020-09-16 06:46:22 (17.7 MB/s) - ‘DevanagariHandwrittenCharacterDataset.zip’ saved [80417803/80417803]\n",
            "\n"
          ],
          "name": "stdout"
        }
      ]
    },
    {
      "cell_type": "code",
      "metadata": {
        "id": "6MandG2ZFJLT",
        "colab_type": "code",
        "colab": {
          "base_uri": "https://localhost:8080/",
          "height": 68
        },
        "outputId": "7ff38a55-0d21-4ad0-ff06-221a235c6d3b"
      },
      "source": [
        "data_dir = pathlib.Path('./dataset/train')\n",
        "data_dir2 = pathlib.Path('./dataset/test')\n",
        "chars = list(data_dir.glob('digit_*/*'))\n",
        "PIL.Image.open(str(chars[0]))\n",
        "\n",
        "batch_size = 32\n",
        "img_height = 180\n",
        "img_width = 180\n",
        " \n",
        "train_ds = tf.keras.preprocessing.image_dataset_from_directory(\n",
        "  data_dir,\n",
        "  validation_split=0.2,\n",
        "  subset=\"training\",\n",
        "  seed=123,\n",
        "  image_size=(img_height, img_width),\n",
        "  batch_size=batch_size)\n",
        "\n",
        "test_ds = tf.keras.preprocessing.image_dataset_from_directory(\n",
        "  data_dir2,\n",
        "  seed=123,\n",
        "  image_size=(img_height, img_width),\n",
        "  batch_size=batch_size)"
      ],
      "execution_count": 3,
      "outputs": [
        {
          "output_type": "stream",
          "text": [
            "Found 17000 files belonging to 10 classes.\n",
            "Using 13600 files for training.\n",
            "Found 3000 files belonging to 10 classes.\n"
          ],
          "name": "stdout"
        }
      ]
    },
    {
      "cell_type": "code",
      "metadata": {
        "id": "z1I2MoLvlZao",
        "colab_type": "code",
        "colab": {
          "base_uri": "https://localhost:8080/",
          "height": 303
        },
        "outputId": "baa2a86e-737a-4415-bd82-d28bc4cba0a7"
      },
      "source": [
        "from tensorflow.keras import layers\n",
        "\n",
        "normalization_layer = tf.keras.layers.experimental.preprocessing.Rescaling(1./255)\n",
        "normalized_train= train_ds.map(lambda x, y: (normalization_layer(x), y))\n",
        "trainX, trainY = next(iter(normalized_train))\n",
        "\n",
        "normalization_layer = tf.keras.layers.experimental.preprocessing.Rescaling(1./255)\n",
        "normalized_test = test_ds.map(lambda x, y: (normalization_layer(x), y))\n",
        "testX, testY = next(iter(normalized_test))\n",
        "\n",
        "\n",
        "plt.imshow(trainX[0])\n",
        "print(trainY[0])\n",
        "print(trainX[0].shape)"
      ],
      "execution_count": 4,
      "outputs": [
        {
          "output_type": "stream",
          "text": [
            "tf.Tensor(4, shape=(), dtype=int32)\n",
            "(180, 180, 3)\n"
          ],
          "name": "stdout"
        },
        {
          "output_type": "display_data",
          "data": {
            "image/png": "[encoded data removed]",
            "text/plain": [
              "<Figure size 432x288 with 1 Axes>"
            ]
          },
          "metadata": {
            "tags": [],
            "needs_background": "light"
          }
        }
      ]
    },
    {
      "cell_type": "code",
      "metadata": {
        "id": "SoMhw43ZnO-K",
        "colab_type": "code",
        "colab": {}
      },
      "source": [
        "batch_size = 128  \n",
        "num_classes = 10\n",
        "epochs = 40"
      ],
      "execution_count": 13,
      "outputs": []
    },
    {
      "cell_type": "code",
      "metadata": {
        "id": "_9yHZo5rhREk",
        "colab_type": "code",
        "colab": {}
      },
      "source": [
        "model = tf.keras.Sequential([\n",
        "  layers.experimental.preprocessing.Rescaling(1./255),\n",
        "  layers.Conv2D(32, 3, activation='relu'),\n",
        "  layers.MaxPooling2D(),\n",
        "  layers.Conv2D(32, 3, activation='relu'),\n",
        "  layers.MaxPooling2D(),\n",
        "  layers.Conv2D(32, 3, activation='relu'),\n",
        "  layers.MaxPooling2D(),\n",
        "  layers.Flatten(),\n",
        "  layers.Dense(128, activation='relu'),\n",
        "  layers.Dense(num_classes)\n",
        "])\n",
        "\n",
        "model.compile(\n",
        "  optimizer='adam',\n",
        "  loss=tf.losses.SparseCategoricalCrossentropy(from_logits=True),\n",
        "  metrics=['accuracy'])"
      ],
      "execution_count": 14,
      "outputs": []
    },
    {
      "cell_type": "code",
      "metadata": {
        "id": "HxxbP0UWhTkX",
        "colab_type": "code",
        "colab": {
          "base_uri": "https://localhost:8080/",
          "height": 1000
        },
        "outputId": "19cab1fb-095f-4f6c-fc7f-675f2131805e"
      },
      "source": [
        "history = model.fit(\n",
        "  trainX, trainY,\n",
        "  validation_data=(testX, testY),\n",
        "  epochs=epochs,\n",
        "  verbose=1\n",
        ")\n",
        "score = model.evaluate(testX, testY, verbose=1)\n",
        "print('Test loss:', score[0])\n",
        "print('Test accuracy:', score[1])"
      ],
      "execution_count": 15,
      "outputs": [
        {
          "output_type": "stream",
          "text": [
            "Epoch 1/40\n",
            "1/1 [==============================] - 0s 216ms/step - loss: 2.3023 - accuracy: 0.1875 - val_loss: 2.3037 - val_accuracy: 0.1250\n",
            "Epoch 2/40\n",
            "1/1 [==============================] - 0s 82ms/step - loss: 2.2887 - accuracy: 0.4062 - val_loss: 2.3138 - val_accuracy: 0.0625\n",
            "Epoch 3/40\n",
            "1/1 [==============================] - 0s 82ms/step - loss: 2.2491 - accuracy: 0.2188 - val_loss: 2.3454 - val_accuracy: 0.0625\n",
            "Epoch 4/40\n",
            "1/1 [==============================] - 0s 76ms/step - loss: 2.1823 - accuracy: 0.2188 - val_loss: 2.4530 - val_accuracy: 0.0625\n",
            "Epoch 5/40\n",
            "1/1 [==============================] - 0s 80ms/step - loss: 2.1030 - accuracy: 0.2188 - val_loss: 2.7353 - val_accuracy: 0.0625\n",
            "Epoch 6/40\n",
            "1/1 [==============================] - 0s 81ms/step - loss: 2.0826 - accuracy: 0.2188 - val_loss: 2.9378 - val_accuracy: 0.0625\n",
            "Epoch 7/40\n",
            "1/1 [==============================] - 0s 77ms/step - loss: 2.0874 - accuracy: 0.2188 - val_loss: 2.9257 - val_accuracy: 0.0625\n",
            "Epoch 8/40\n",
            "1/1 [==============================] - 0s 85ms/step - loss: 2.0522 - accuracy: 0.2188 - val_loss: 2.8648 - val_accuracy: 0.0625\n",
            "Epoch 9/40\n",
            "1/1 [==============================] - 0s 75ms/step - loss: 2.0328 - accuracy: 0.2188 - val_loss: 2.8160 - val_accuracy: 0.0938\n",
            "Epoch 10/40\n",
            "1/1 [==============================] - 0s 76ms/step - loss: 2.0284 - accuracy: 0.3438 - val_loss: 2.7801 - val_accuracy: 0.0938\n",
            "Epoch 11/40\n",
            "1/1 [==============================] - 0s 66ms/step - loss: 2.0170 - accuracy: 0.4062 - val_loss: 2.7638 - val_accuracy: 0.1250\n",
            "Epoch 12/40\n",
            "1/1 [==============================] - 0s 72ms/step - loss: 1.9946 - accuracy: 0.4062 - val_loss: 2.7746 - val_accuracy: 0.1250\n",
            "Epoch 13/40\n",
            "1/1 [==============================] - 0s 82ms/step - loss: 1.9663 - accuracy: 0.4062 - val_loss: 2.8204 - val_accuracy: 0.1250\n",
            "Epoch 14/40\n",
            "1/1 [==============================] - 0s 74ms/step - loss: 1.9323 - accuracy: 0.4062 - val_loss: 2.8845 - val_accuracy: 0.1250\n",
            "Epoch 15/40\n",
            "1/1 [==============================] - 0s 73ms/step - loss: 1.8951 - accuracy: 0.4062 - val_loss: 2.9394 - val_accuracy: 0.0938\n",
            "Epoch 16/40\n",
            "1/1 [==============================] - 0s 74ms/step - loss: 1.8530 - accuracy: 0.4062 - val_loss: 2.9547 - val_accuracy: 0.0938\n",
            "Epoch 17/40\n",
            "1/1 [==============================] - 0s 72ms/step - loss: 1.7964 - accuracy: 0.4062 - val_loss: 2.9270 - val_accuracy: 0.1250\n",
            "Epoch 18/40\n",
            "1/1 [==============================] - 0s 70ms/step - loss: 1.7231 - accuracy: 0.5000 - val_loss: 2.9053 - val_accuracy: 0.1562\n",
            "Epoch 19/40\n",
            "1/1 [==============================] - 0s 72ms/step - loss: 1.6336 - accuracy: 0.5312 - val_loss: 2.9204 - val_accuracy: 0.1875\n",
            "Epoch 20/40\n",
            "1/1 [==============================] - 0s 69ms/step - loss: 1.5278 - accuracy: 0.5625 - val_loss: 2.9200 - val_accuracy: 0.2188\n",
            "Epoch 21/40\n",
            "1/1 [==============================] - 0s 70ms/step - loss: 1.4102 - accuracy: 0.6562 - val_loss: 2.9241 - val_accuracy: 0.2812\n",
            "Epoch 22/40\n",
            "1/1 [==============================] - 0s 69ms/step - loss: 1.2788 - accuracy: 0.7812 - val_loss: 2.9221 - val_accuracy: 0.2812\n",
            "Epoch 23/40\n",
            "1/1 [==============================] - 0s 70ms/step - loss: 1.1360 - accuracy: 0.8125 - val_loss: 2.9117 - val_accuracy: 0.3125\n",
            "Epoch 24/40\n",
            "1/1 [==============================] - 0s 69ms/step - loss: 0.9865 - accuracy: 0.8125 - val_loss: 2.9833 - val_accuracy: 0.3125\n",
            "Epoch 25/40\n",
            "1/1 [==============================] - 0s 74ms/step - loss: 0.8353 - accuracy: 0.8125 - val_loss: 2.9152 - val_accuracy: 0.2812\n",
            "Epoch 26/40\n",
            "1/1 [==============================] - 0s 58ms/step - loss: 0.6867 - accuracy: 0.8438 - val_loss: 2.9286 - val_accuracy: 0.2812\n",
            "Epoch 27/40\n",
            "1/1 [==============================] - 0s 66ms/step - loss: 0.5551 - accuracy: 0.8750 - val_loss: 3.0101 - val_accuracy: 0.2812\n",
            "Epoch 28/40\n",
            "1/1 [==============================] - 0s 70ms/step - loss: 0.4393 - accuracy: 0.8750 - val_loss: 3.0663 - val_accuracy: 0.3125\n",
            "Epoch 29/40\n",
            "1/1 [==============================] - 0s 68ms/step - loss: 0.3361 - accuracy: 0.9375 - val_loss: 3.2072 - val_accuracy: 0.3750\n",
            "Epoch 30/40\n",
            "1/1 [==============================] - 0s 69ms/step - loss: 0.2451 - accuracy: 0.9688 - val_loss: 3.3551 - val_accuracy: 0.4062\n",
            "Epoch 31/40\n",
            "1/1 [==============================] - 0s 69ms/step - loss: 0.1730 - accuracy: 0.9688 - val_loss: 3.5063 - val_accuracy: 0.5000\n",
            "Epoch 32/40\n",
            "1/1 [==============================] - 0s 69ms/step - loss: 0.1190 - accuracy: 1.0000 - val_loss: 3.6463 - val_accuracy: 0.5000\n",
            "Epoch 33/40\n",
            "1/1 [==============================] - 0s 70ms/step - loss: 0.0792 - accuracy: 1.0000 - val_loss: 3.7976 - val_accuracy: 0.5000\n",
            "Epoch 34/40\n",
            "1/1 [==============================] - 0s 68ms/step - loss: 0.0502 - accuracy: 1.0000 - val_loss: 3.9765 - val_accuracy: 0.5000\n",
            "Epoch 35/40\n",
            "1/1 [==============================] - 0s 70ms/step - loss: 0.0299 - accuracy: 1.0000 - val_loss: 4.1946 - val_accuracy: 0.5000\n",
            "Epoch 36/40\n",
            "1/1 [==============================] - 0s 70ms/step - loss: 0.0173 - accuracy: 1.0000 - val_loss: 4.4529 - val_accuracy: 0.5312\n",
            "Epoch 37/40\n",
            "1/1 [==============================] - 0s 69ms/step - loss: 0.0098 - accuracy: 1.0000 - val_loss: 4.7399 - val_accuracy: 0.5312\n",
            "Epoch 38/40\n",
            "1/1 [==============================] - 0s 67ms/step - loss: 0.0056 - accuracy: 1.0000 - val_loss: 5.0464 - val_accuracy: 0.5312\n",
            "Epoch 39/40\n",
            "1/1 [==============================] - 0s 72ms/step - loss: 0.0034 - accuracy: 1.0000 - val_loss: 5.3667 - val_accuracy: 0.5000\n",
            "Epoch 40/40\n",
            "1/1 [==============================] - 0s 69ms/step - loss: 0.0022 - accuracy: 1.0000 - val_loss: 5.6943 - val_accuracy: 0.5000\n",
            "1/1 [==============================] - 0s 12ms/step - loss: 5.6943 - accuracy: 0.5000\n",
            "Test loss: 5.6942667961120605\n",
            "Test accuracy: 0.5\n"
          ],
          "name": "stdout"
        }
      ]
    },
    {
      "cell_type": "code",
      "metadata": {
        "id": "2KhVgPzFhU36",
        "colab_type": "code",
        "colab": {
          "base_uri": "https://localhost:8080/",
          "height": 336
        },
        "outputId": "d62b4747-6746-4f13-8700-d8ad956a269a"
      },
      "source": [
        "from matplotlib import pyplot as plt\n",
        "\n",
        "fig, axs = plt.subplots(1, 2, figsize=(20,5))\n",
        "\n",
        "axs[0].plot(history.history['loss'], label='loss')\n",
        "axs[0].plot(history.history['val_loss'], label='val_loss')\n",
        "axs[0].legend(loc=\"upper right\")\n",
        "axs[0].set_title('Loss')\n",
        "\n",
        "axs[1].plot(history.history['accuracy'], label='accuracy')\n",
        "axs[1].plot(history.history['val_accuracy'], label='val_accuracy')\n",
        "axs[1].legend(loc=\"lower right\")\n",
        "axs[1].set_title('Accuracy')\n",
        "\n",
        "plt.show()"
      ],
      "execution_count": 16,
      "outputs": [
        {
          "output_type": "display_data",
          "data": {
            "image/png": "[encoded data removed]",
            "text/plain": [
              "<Figure size 1440x360 with 2 Axes>"
            ]
          },
          "metadata": {
            "tags": [],
            "needs_background": "light"
          }
        }
      ]
    }
  ]
}